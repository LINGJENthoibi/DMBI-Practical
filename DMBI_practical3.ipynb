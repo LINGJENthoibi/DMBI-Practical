{
 "cells": [
  {
   "cell_type": "code",
   "execution_count": 12,
   "id": "67671ccc-8eaa-4d08-9406-9fdd1c6102f8",
   "metadata": {},
   "outputs": [],
   "source": [
    "import pandas as pd\n",
    "from mlxtend.frequent_patterns import apriori, association_rules"
   ]
  },
  {
   "cell_type": "code",
   "execution_count": 13,
   "id": "a92b4c61-bc6d-4204-9bf5-cb8cd44c3619",
   "metadata": {},
   "outputs": [],
   "source": [
    "data = {'TID':[1, 2, 3, 4, 5],\n",
    "        'Milk':[1, 0, 1, 1, 0],\n",
    "        'Bread':[1, 1, 0, 1, 1],\n",
    "        'Butter':[0, 1, 1, 1, 0],\n",
    "        'jam':[1, 0, 0, 0, 1]}\n",
    "df = pd.DataFrame(data).set_index('TID')"
   ]
  },
  {
   "cell_type": "code",
   "execution_count": 14,
   "id": "a571b053-358a-4065-a02e-ad289b967691",
   "metadata": {},
   "outputs": [
    {
     "name": "stdout",
     "output_type": "stream",
     "text": [
      "Transaction Data:\n",
      "     Milk  Bread  Butter  jam\n",
      "TID                          \n",
      "1       1      1       0    1\n",
      "2       0      1       1    0\n",
      "3       1      0       1    0\n",
      "4       1      1       1    0\n",
      "5       0      1       0    1\n"
     ]
    }
   ],
   "source": [
    "print(\"Transaction Data:\")\n",
    "print(df)"
   ]
  },
  {
   "cell_type": "code",
   "execution_count": 15,
   "id": "10021daa-5298-46fa-8986-06b8e5b35769",
   "metadata": {},
   "outputs": [
    {
     "name": "stdout",
     "output_type": "stream",
     "text": [
      "/nFrequentt itemsets:\n",
      "   support         itemsets\n",
      "0      0.6           (Milk)\n",
      "1      0.8          (Bread)\n",
      "2      0.6         (Butter)\n",
      "3      0.4            (jam)\n",
      "4      0.4    (Bread, Milk)\n",
      "5      0.4   (Butter, Milk)\n",
      "6      0.4  (Butter, Bread)\n",
      "7      0.4     (jam, Bread)\n"
     ]
    },
    {
     "name": "stderr",
     "output_type": "stream",
     "text": [
      "C:\\Users\\lingj\\anaconda3\\Lib\\site-packages\\mlxtend\\frequent_patterns\\fpcommon.py:161: DeprecationWarning: DataFrames with non-bool types result in worse computationalperformance and their support might be discontinued in the future.Please use a DataFrame with bool type\n",
      "  warnings.warn(\n"
     ]
    }
   ],
   "source": [
    "min_support = 0.4\n",
    "frequent_itemsets = apriori(df, min_support=min_support, use_colnames=True)\n",
    "print(\"/nFrequentt itemsets:\")\n",
    "print(frequent_itemsets)"
   ]
  },
  {
   "cell_type": "code",
   "execution_count": 9,
   "id": "d59aa72a-069e-4093-90ad-975e61c0e937",
   "metadata": {},
   "outputs": [
    {
     "name": "stdout",
     "output_type": "stream",
     "text": [
      "/nAssociation Rules:\n",
      "  antecedents consequents  antecedent support  consequent support  support  \\\n",
      "0      (Milk)     (Bread)                 0.6                 0.8      0.4   \n",
      "1    (Butter)      (Milk)                 0.6                 0.6      0.4   \n",
      "2      (Milk)    (Butter)                 0.6                 0.6      0.4   \n",
      "3    (Butter)     (Bread)                 0.6                 0.8      0.4   \n",
      "4       (jam)     (Bread)                 0.4                 0.8      0.4   \n",
      "\n",
      "   confidence      lift  representativity  leverage  conviction  \\\n",
      "0    0.666667  0.833333               1.0     -0.08         0.6   \n",
      "1    0.666667  1.111111               1.0      0.04         1.2   \n",
      "2    0.666667  1.111111               1.0      0.04         1.2   \n",
      "3    0.666667  0.833333               1.0     -0.08         0.6   \n",
      "4    1.000000  1.250000               1.0      0.08         inf   \n",
      "\n",
      "   zhangs_metric  jaccard  certainty  kulczynski  \n",
      "0      -0.333333      0.4  -0.666667    0.583333  \n",
      "1       0.250000      0.5   0.166667    0.666667  \n",
      "2       0.250000      0.5   0.166667    0.666667  \n",
      "3      -0.333333      0.4  -0.666667    0.583333  \n",
      "4       0.333333      0.5   1.000000    0.750000  \n"
     ]
    }
   ],
   "source": [
    "min_confidence = 0.6\n",
    "rules = association_rules(frequent_itemsets, metric=\"confidence\", min_threshold=min_confidence)\n",
    "print(\"/nAssociation Rules:\")\n",
    "print(rules)"
   ]
  },
  {
   "cell_type": "code",
   "execution_count": 11,
   "id": "65bcf33f-92b3-4957-a67e-c411e79c5666",
   "metadata": {},
   "outputs": [
    {
     "name": "stdout",
     "output_type": "stream",
     "text": [
      "Requirement already satisfied: mlxtend in c:\\users\\lingj\\anaconda3\\lib\\site-packages (0.23.4)\n",
      "Requirement already satisfied: scipy>=1.2.1 in c:\\users\\lingj\\anaconda3\\lib\\site-packages (from mlxtend) (1.13.1)\n",
      "Requirement already satisfied: numpy>=1.16.2 in c:\\users\\lingj\\anaconda3\\lib\\site-packages (from mlxtend) (1.26.4)\n",
      "Requirement already satisfied: pandas>=0.24.2 in c:\\users\\lingj\\anaconda3\\lib\\site-packages (from mlxtend) (2.2.2)\n",
      "Requirement already satisfied: scikit-learn>=1.3.1 in c:\\users\\lingj\\anaconda3\\lib\\site-packages (from mlxtend) (1.5.1)\n",
      "Requirement already satisfied: matplotlib>=3.0.0 in c:\\users\\lingj\\anaconda3\\lib\\site-packages (from mlxtend) (3.9.2)\n",
      "Requirement already satisfied: joblib>=0.13.2 in c:\\users\\lingj\\anaconda3\\lib\\site-packages (from mlxtend) (1.4.2)\n",
      "Requirement already satisfied: contourpy>=1.0.1 in c:\\users\\lingj\\anaconda3\\lib\\site-packages (from matplotlib>=3.0.0->mlxtend) (1.2.0)\n",
      "Requirement already satisfied: cycler>=0.10 in c:\\users\\lingj\\anaconda3\\lib\\site-packages (from matplotlib>=3.0.0->mlxtend) (0.11.0)\n",
      "Requirement already satisfied: fonttools>=4.22.0 in c:\\users\\lingj\\anaconda3\\lib\\site-packages (from matplotlib>=3.0.0->mlxtend) (4.51.0)\n",
      "Requirement already satisfied: kiwisolver>=1.3.1 in c:\\users\\lingj\\anaconda3\\lib\\site-packages (from matplotlib>=3.0.0->mlxtend) (1.4.4)\n",
      "Requirement already satisfied: packaging>=20.0 in c:\\users\\lingj\\anaconda3\\lib\\site-packages (from matplotlib>=3.0.0->mlxtend) (24.1)\n",
      "Requirement already satisfied: pillow>=8 in c:\\users\\lingj\\anaconda3\\lib\\site-packages (from matplotlib>=3.0.0->mlxtend) (10.4.0)\n",
      "Requirement already satisfied: pyparsing>=2.3.1 in c:\\users\\lingj\\anaconda3\\lib\\site-packages (from matplotlib>=3.0.0->mlxtend) (3.1.2)\n",
      "Requirement already satisfied: python-dateutil>=2.7 in c:\\users\\lingj\\anaconda3\\lib\\site-packages (from matplotlib>=3.0.0->mlxtend) (2.9.0.post0)\n",
      "Requirement already satisfied: pytz>=2020.1 in c:\\users\\lingj\\anaconda3\\lib\\site-packages (from pandas>=0.24.2->mlxtend) (2024.1)\n",
      "Requirement already satisfied: tzdata>=2022.7 in c:\\users\\lingj\\anaconda3\\lib\\site-packages (from pandas>=0.24.2->mlxtend) (2023.3)\n",
      "Requirement already satisfied: threadpoolctl>=3.1.0 in c:\\users\\lingj\\anaconda3\\lib\\site-packages (from scikit-learn>=1.3.1->mlxtend) (3.5.0)\n",
      "Requirement already satisfied: six>=1.5 in c:\\users\\lingj\\anaconda3\\lib\\site-packages (from python-dateutil>=2.7->matplotlib>=3.0.0->mlxtend) (1.16.0)\n"
     ]
    }
   ],
   "source": [
    "!pip install mlxtend"
   ]
  },
  {
   "cell_type": "code",
   "execution_count": null,
   "id": "65a0fca5-9660-421a-9270-2c876ef87ab8",
   "metadata": {},
   "outputs": [],
   "source": []
  }
 ],
 "metadata": {
  "kernelspec": {
   "display_name": "Python [conda env:base] *",
   "language": "python",
   "name": "conda-base-py"
  },
  "language_info": {
   "codemirror_mode": {
    "name": "ipython",
    "version": 3
   },
   "file_extension": ".py",
   "mimetype": "text/x-python",
   "name": "python",
   "nbconvert_exporter": "python",
   "pygments_lexer": "ipython3",
   "version": "3.12.7"
  }
 },
 "nbformat": 4,
 "nbformat_minor": 5
}
